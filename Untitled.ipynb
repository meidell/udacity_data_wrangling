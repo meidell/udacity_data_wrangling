{
 "cells": [
  {
   "cell_type": "code",
   "execution_count": 4,
   "metadata": {},
   "outputs": [
    {
     "name": "stdout",
     "output_type": "stream",
     "text": [
      "\n",
      "City: chicago.csv\n",
      "OrderedDict([('', '1423854'), ('Start Time', '2017-06-23 15:09:32'), ('End Time', '2017-06-23 15:14:53'), ('Trip Duration', '321'), ('Start Station', 'Wood St & Hubbard St'), ('End Station', 'Damen Ave & Chicago Ave'), ('User Type', 'Subscriber'), ('Gender', 'Male'), ('Birth Year', '1992.0')])\n",
      "\n",
      "City: new_york_city.csv\n",
      "OrderedDict([('', '5688089'), ('Start Time', '2017-06-11 14:55:05'), ('End Time', '2017-06-11 15:08:21'), ('Trip Duration', '795'), ('Start Station', 'Suffolk St & Stanton St'), ('End Station', 'W Broadway & Spring St'), ('User Type', 'Subscriber'), ('Gender', 'Male'), ('Birth Year', '1998.0')])\n",
      "\n",
      "City: washington.csv\n",
      "OrderedDict([('', '1621326'), ('Start Time', '2017-06-21 08:36:34'), ('End Time', '2017-06-21 08:44:43'), ('Trip Duration', '489.066'), ('Start Station', '14th & Belmont St NW'), ('End Station', '15th & K St NW'), ('User Type', 'Subscriber')])\n"
     ]
    }
   ],
   "source": [
    "import csv\n",
    "\n",
    "data_files = ['./chicago.csv',\n",
    "              './new_york_city.csv',\n",
    "              './washington.csv',]\n",
    "\n",
    "\n",
    "\n",
    "#with open('names.csv', newline='') as csvfile:\n",
    "#    reader = csv.DictReader(csvfile)\n",
    "#    for row in reader:\n",
    "#    print(row['first_name'], row['last_name'])\n",
    "\n",
    "\n",
    "def print_first_point(filename):\n",
    "    \"\"\"\n",
    "    This function prints and returns the first data point (second row) from\n",
    "    a csv file that includes a header row.\n",
    "    \"\"\"\n",
    "    # print city name for reference\n",
    "    city = filename.split('-')[0].split('/')[-1]\n",
    "    print('\\nCity: {}'.format(city))\n",
    "    \n",
    "    with open(filename, 'r') as f_in:\n",
    "        ## Use the csv library to set up a DictReader object. ##\n",
    "        trip_reader = list(csv.DictReader(f_in))\n",
    "        ## first trip from the data file and store it in a variable. ##\n",
    "        first_trip = trip_reader[0]\n",
    "        ## Use the pprint library to print the first trip. ##\n",
    "        print(first_trip)\n",
    "    # output city name and first trip for later testing\n",
    "    return (city, first_trip)\n",
    "    \n",
    "    \n",
    "example_trips = {}\n",
    "for data_file in data_files:\n",
    "    city, first_trip = print_first_point(data_file)\n",
    "    example_trips[city] = first_trip\n",
    "\n",
    "\n"
   ]
  },
  {
   "cell_type": "code",
   "execution_count": null,
   "metadata": {},
   "outputs": [],
   "source": []
  }
 ],
 "metadata": {
  "kernelspec": {
   "display_name": "Python 3",
   "language": "python",
   "name": "python3"
  },
  "language_info": {
   "codemirror_mode": {
    "name": "ipython",
    "version": 3
   },
   "file_extension": ".py",
   "mimetype": "text/x-python",
   "name": "python",
   "nbconvert_exporter": "python",
   "pygments_lexer": "ipython3",
   "version": "3.6.4"
  }
 },
 "nbformat": 4,
 "nbformat_minor": 2
}
